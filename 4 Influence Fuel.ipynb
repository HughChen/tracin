{
 "cells": [
  {
   "cell_type": "markdown",
   "id": "e23be5cf",
   "metadata": {},
   "source": [
    "## Calculating influence of regression model"
   ]
  },
  {
   "cell_type": "code",
   "execution_count": 1,
   "id": "871bd1b4",
   "metadata": {},
   "outputs": [],
   "source": [
    "import os\n",
    "os.environ[\"CUDA_VISIBLE_DEVICES\"] = \"0\"\n",
    "\n",
    "import matplotlib.pyplot as plt\n",
    "import numpy as np\n",
    "\n",
    "# Local imports\n",
    "from tracin import influence\n",
    "from model  import load_fuel\n",
    "from data   import fuel_data\n",
    "\n",
    "# Load data\n",
    "trainX, trainY, _, _ = fuel_data()\n",
    "\n",
    "# Load model\n",
    "model = load_fuel(trainX, is_compile=False)"
   ]
  },
  {
   "cell_type": "code",
   "execution_count": 24,
   "id": "7c7944d8",
   "metadata": {},
   "outputs": [],
   "source": [
    "from tensorflow.keras.losses import MeanSquaredError\n",
    "\n",
    "eta = 0.01 # Default eta\n",
    "\n",
    "# Calculate influences for first sample\n",
    "influences = influence(trainX[0:1], trainY[0:1], \n",
    "                       trainX[0:100], trainY[0:100], \n",
    "                       \"model/fuel/model{}.hdf5\",\n",
    "                       model, eta, 20, \n",
    "                       loss_fn = MeanSquaredError())"
   ]
  }
 ],
 "metadata": {
  "kernelspec": {
   "display_name": "tracinenv",
   "language": "python",
   "name": "tracinenv"
  },
  "language_info": {
   "codemirror_mode": {
    "name": "ipython",
    "version": 3
   },
   "file_extension": ".py",
   "mimetype": "text/x-python",
   "name": "python",
   "nbconvert_exporter": "python",
   "pygments_lexer": "ipython3",
   "version": "3.8.8"
  }
 },
 "nbformat": 4,
 "nbformat_minor": 5
}
