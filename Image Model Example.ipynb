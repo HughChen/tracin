{
 "cells": [
  {
   "cell_type": "markdown",
   "id": "2beee5e2",
   "metadata": {},
   "source": [
    "https://www.tensorflow.org/datasets/keras_example"
   ]
  },
  {
   "cell_type": "code",
   "execution_count": null,
   "id": "0750dd88",
   "metadata": {},
   "outputs": [],
   "source": [
    "import os\n",
    "os.environ[\"CUDA_VISIBLE_DEVICES\"] = \"0\"\n",
    "\n",
    "import matplotlib.pyplot as plt\n",
    "import tensorflow as tf\n",
    "import numpy as np\n",
    "from tensorflow import keras\n",
    "from tensorflow.keras import layers\n",
    "from tensorflow.keras.models import Sequential\n",
    "from tensorflow.keras.callbacks import ModelCheckpoint\n",
    "\n",
    "# Get train and test data\n",
    "(train_X,train_Y),(test_X,test_Y) = tf.keras.datasets.mnist.load_data()\n",
    "train_X = train_X.reshape(-1, 28 * 28) / 255.0\n",
    "test_X  = test_X.reshape(-1, 28 * 28) / 255.0\n",
    "\n",
    "# Form model\n",
    "model = tf.keras.models.Sequential([\n",
    "  tf.keras.layers.Dense(128,input_shape=(784,),activation='relu'),\n",
    "  tf.keras.layers.Dense(10)\n",
    "])\n",
    "\n",
    "# Compile model\n",
    "model.compile(\n",
    "    optimizer=tf.keras.optimizers.SGD(0.001),\n",
    "    loss=tf.keras.losses.SparseCategoricalCrossentropy(from_logits=True),\n",
    "    metrics=[tf.keras.metrics.SparseCategoricalAccuracy()],\n",
    ")\n",
    "\n",
    "# Callback to chheckpoint models\n",
    "checkpoint_callback = ModelCheckpoint(\n",
    "    filepath=\"model/mnist/model{epoch}.hdf5\",\n",
    "    save_weights_only=True,\n",
    "    save_best_only=False)\n",
    "\n",
    "model.fit(\n",
    "    train_X, \n",
    "    train_Y,\n",
    "    epochs=20,\n",
    "    callbacks = checkpoint_callback\n",
    ")"
   ]
  },
  {
   "cell_type": "code",
   "execution_count": 2,
   "id": "71608f89",
   "metadata": {},
   "outputs": [],
   "source": [
    "import os\n",
    "os.environ[\"CUDA_VISIBLE_DEVICES\"] = \"0\"\n",
    "\n",
    "import matplotlib.pyplot as plt\n",
    "import tensorflow as tf\n",
    "import numpy as np\n",
    "\n",
    "from tensorflow import keras\n",
    "from tensorflow.keras import layers\n",
    "from tensorflow.keras.models import Sequential\n",
    "from tensorflow.keras.callbacks import ModelCheckpoint\n",
    "\n",
    "# Get train and test data\n",
    "(train_X,train_Y),(test_X,test_Y) = tf.keras.datasets.mnist.load_data()\n",
    "train_X = train_X.reshape(-1, 28 * 28) / 255.0\n",
    "test_X  = test_X.reshape(-1, 28 * 28) / 255.0\n",
    "\n",
    "# Form model\n",
    "model = tf.keras.models.Sequential([\n",
    "  tf.keras.layers.Dense(128,input_shape=(784,),activation='relu'),\n",
    "  tf.keras.layers.Dense(10)\n",
    "])"
   ]
  },
  {
   "cell_type": "code",
   "execution_count": 3,
   "id": "cb074779",
   "metadata": {},
   "outputs": [],
   "source": [
    "# Load checkpoint\n",
    "epoch_iter = 1\n",
    "model.load_weights(f\"model/mnist/model{epoch_iter}.hdf5\")\n",
    "\n",
    "# Try to compute gradient of loss\n",
    "loss_fn = tf.keras.losses.SparseCategoricalCrossentropy(from_logits=True)\n",
    "\n",
    "images = train_X[0:1]\n",
    "labels = train_Y[0:1]\n",
    "with tf.GradientTape() as tape:\n",
    "    logits   = model(images)\n",
    "    loss_val = loss_fn(labels, logits)\n",
    "\n",
    "grads = tape.gradient(loss_val, model.trainable_variables)"
   ]
  },
  {
   "cell_type": "code",
   "execution_count": 5,
   "id": "c45d333d",
   "metadata": {},
   "outputs": [
    {
     "data": {
      "text/plain": [
       "[TensorShape([784, 128]),\n",
       " TensorShape([128]),\n",
       " TensorShape([128, 10]),\n",
       " TensorShape([10])]"
      ]
     },
     "execution_count": 5,
     "metadata": {},
     "output_type": "execute_result"
    }
   ],
   "source": [
    "[grad.shape for grad in grads]"
   ]
  },
  {
   "cell_type": "code",
   "execution_count": null,
   "id": "0fce5fce",
   "metadata": {},
   "outputs": [],
   "source": []
  }
 ],
 "metadata": {
  "kernelspec": {
   "display_name": "tracinenv",
   "language": "python",
   "name": "tracinenv"
  },
  "language_info": {
   "codemirror_mode": {
    "name": "ipython",
    "version": 3
   },
   "file_extension": ".py",
   "mimetype": "text/x-python",
   "name": "python",
   "nbconvert_exporter": "python",
   "pygments_lexer": "ipython3",
   "version": "3.8.8"
  }
 },
 "nbformat": 4,
 "nbformat_minor": 5
}
