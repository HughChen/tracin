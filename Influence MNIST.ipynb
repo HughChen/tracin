{
 "cells": [
  {
   "cell_type": "markdown",
   "id": "9887ca57",
   "metadata": {},
   "source": [
    "https://www.tensorflow.org/datasets/keras_example"
   ]
  },
  {
   "cell_type": "code",
   "execution_count": 1,
   "id": "cdcaf656",
   "metadata": {},
   "outputs": [],
   "source": [
    "import os\n",
    "os.environ[\"CUDA_VISIBLE_DEVICES\"] = \"0\"\n",
    "\n",
    "import matplotlib.pyplot as plt\n",
    "import tensorflow as tf\n",
    "import numpy as np\n",
    "\n",
    "from tensorflow import keras\n",
    "from tensorflow.keras import layers, models, datasets\n",
    "from tensorflow.keras.models import Sequential\n",
    "from tracin import influence\n",
    "\n",
    "# Get train and test data\n",
    "(train_X,train_Y),(test_X,test_Y) = datasets.mnist.load_data()\n",
    "train_X = train_X.reshape(-1, 28 * 28) / 255.0\n",
    "test_X  = test_X.reshape(-1, 28 * 28) / 255.0\n",
    "\n",
    "eta = 0.001\n",
    "\n",
    "# Form model\n",
    "model = models.Sequential([\n",
    "  layers.Dense(128,input_shape=(784,),activation='relu'),\n",
    "  layers.Dense(10)\n",
    "])"
   ]
  },
  {
   "cell_type": "code",
   "execution_count": 2,
   "id": "f0693f5b",
   "metadata": {},
   "outputs": [],
   "source": [
    "influences = influence(train_X[0:2], train_Y[0:2], \n",
    "                       train_X[2:5], train_Y[2:5], \n",
    "                       \"model/mnist/model{}.hdf5\",\n",
    "                       model, eta, 20)"
   ]
  },
  {
   "cell_type": "code",
   "execution_count": 3,
   "id": "7494752e",
   "metadata": {},
   "outputs": [
    {
     "data": {
      "text/plain": [
       "array([[ 0.03737765, -0.00194017, -0.01024697],\n",
       "       [ 0.00125253, -0.00037427, -0.00158022]])"
      ]
     },
     "execution_count": 3,
     "metadata": {},
     "output_type": "execute_result"
    }
   ],
   "source": [
    "influences"
   ]
  },
  {
   "cell_type": "code",
   "execution_count": null,
   "id": "285dd0ad",
   "metadata": {},
   "outputs": [],
   "source": []
  }
 ],
 "metadata": {
  "kernelspec": {
   "display_name": "tracinenv",
   "language": "python",
   "name": "tracinenv"
  },
  "language_info": {
   "codemirror_mode": {
    "name": "ipython",
    "version": 3
   },
   "file_extension": ".py",
   "mimetype": "text/x-python",
   "name": "python",
   "nbconvert_exporter": "python",
   "pygments_lexer": "ipython3",
   "version": "3.8.8"
  }
 },
 "nbformat": 4,
 "nbformat_minor": 5
}
