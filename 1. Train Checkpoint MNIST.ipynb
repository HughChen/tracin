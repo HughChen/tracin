{
 "cells": [
  {
   "cell_type": "markdown",
   "id": "4abda022",
   "metadata": {},
   "source": [
    "## Train neural network on MNIST (and checkpoint)\n",
    "\n",
    "https://www.tensorflow.org/datasets/keras_example"
   ]
  },
  {
   "cell_type": "code",
   "execution_count": null,
   "id": "1665ab35",
   "metadata": {},
   "outputs": [],
   "source": [
    "import os\n",
    "os.environ[\"CUDA_VISIBLE_DEVICES\"] = \"0\"\n",
    "\n",
    "import matplotlib.pyplot as plt\n",
    "import tensorflow as tf\n",
    "import numpy as np\n",
    "from tensorflow import keras\n",
    "from tensorflow.keras import layers\n",
    "from tensorflow.keras.models import Sequential\n",
    "from tensorflow.keras.callbacks import ModelCheckpoint\n",
    "\n",
    "# Get train and test data\n",
    "(train_X,train_Y),(test_X,test_Y) = tf.keras.datasets.mnist.load_data()\n",
    "train_X = train_X.reshape(-1, 28 * 28) / 255.0\n",
    "test_X  = test_X.reshape(-1, 28 * 28) / 255.0\n",
    "\n",
    "# Form model\n",
    "model = tf.keras.models.Sequential([\n",
    "  tf.keras.layers.Dense(128,input_shape=(784,),activation='relu'),\n",
    "  tf.keras.layers.Dense(10)\n",
    "])\n",
    "\n",
    "# Compile model\n",
    "eta = 0.001\n",
    "model.compile(\n",
    "    optimizer=tf.keras.optimizers.SGD(eta),\n",
    "    loss=tf.keras.losses.SparseCategoricalCrossentropy(from_logits=True),\n",
    "    metrics=[tf.keras.metrics.SparseCategoricalAccuracy()],\n",
    ")\n",
    "\n",
    "# Callback to chheckpoint models\n",
    "checkpoint_callback = ModelCheckpoint(\n",
    "    filepath=\"model/mnist/model{epoch}.hdf5\",\n",
    "    save_weights_only=True,\n",
    "    save_best_only=False)\n",
    "\n",
    "model.fit(\n",
    "    train_X, \n",
    "    train_Y,\n",
    "    epochs=20,\n",
    "    callbacks = checkpoint_callback\n",
    ")"
   ]
  }
 ],
 "metadata": {
  "kernelspec": {
   "display_name": "tracinenv",
   "language": "python",
   "name": "tracinenv"
  },
  "language_info": {
   "codemirror_mode": {
    "name": "ipython",
    "version": 3
   },
   "file_extension": ".py",
   "mimetype": "text/x-python",
   "name": "python",
   "nbconvert_exporter": "python",
   "pygments_lexer": "ipython3",
   "version": "3.8.8"
  }
 },
 "nbformat": 4,
 "nbformat_minor": 5
}
