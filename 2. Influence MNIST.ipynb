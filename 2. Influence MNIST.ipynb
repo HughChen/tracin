{
 "cells": [
  {
   "cell_type": "markdown",
   "id": "646f8409",
   "metadata": {},
   "source": [
    "## Calculate influence"
   ]
  },
  {
   "cell_type": "code",
   "execution_count": 38,
   "id": "6d50bb58",
   "metadata": {},
   "outputs": [],
   "source": [
    "import os\n",
    "os.environ[\"CUDA_VISIBLE_DEVICES\"] = \"0\"\n",
    "\n",
    "import matplotlib.pyplot as plt\n",
    "import tensorflow as tf\n",
    "import numpy as np\n",
    "\n",
    "from tensorflow import keras\n",
    "from tensorflow.keras import layers, models, datasets\n",
    "from tensorflow.keras.models import Sequential\n",
    "from tracin import influence\n",
    "\n",
    "# Get train and test data\n",
    "(train_X,train_Y),(test_X,test_Y) = datasets.mnist.load_data()\n",
    "train_X = train_X.reshape(-1, 28 * 28) / 255.0\n",
    "test_X  = test_X.reshape(-1, 28 * 28) / 255.0\n",
    "\n",
    "eta = 0.001\n",
    "\n",
    "# Form model\n",
    "model = models.Sequential([\n",
    "  layers.Dense(128,input_shape=(784,),activation='relu'),\n",
    "  layers.Dense(10)\n",
    "])"
   ]
  },
  {
   "cell_type": "code",
   "execution_count": 43,
   "id": "0a006837",
   "metadata": {},
   "outputs": [
    {
     "data": {
      "image/png": "[encoded data removed]",
      "text/plain": [
       "<Figure size 1440x216 with 7 Axes>"
      ]
     },
     "metadata": {},
     "output_type": "display_data"
    }
   ],
   "source": [
    "from sklearn import datasets\n",
    "import matplotlib.pyplot as plt\n",
    "\n",
    "# Calculate influences\n",
    "influences = influence(train_X[0:1], train_Y[0:1], \n",
    "                       train_X[0:1000], train_Y[0:1000], \n",
    "                       \"model/mnist/model{}.hdf5\",\n",
    "                       model, eta, 20)\n",
    "\n",
    "# Number of proponents and opponents to plot\n",
    "plt.rcParams[\"figure.figsize\"] = (20,3)\n",
    "\n",
    "k = 3\n",
    "num_images = 1+k*2\n",
    "img_index = 1\n",
    "\n",
    "#Load the digits dataset\n",
    "digits = datasets.load_digits()\n",
    "\n",
    "# Display the first digit\n",
    "plt.subplot(1,num_images,img_index)\n",
    "plt.imshow(train_X[0].reshape(28,28), cmap=plt.cm.gray_r)\n",
    "plt.xticks([]); plt.yticks([])\n",
    "plt.title(\"Explicand\")\n",
    "img_index += 1\n",
    "\n",
    "top_k = influences.argsort()[0][-k:]\n",
    "for i in range(k):\n",
    "    plt.subplot(1,num_images,img_index)\n",
    "    plt.imshow(train_X[top_k[k-(i+1)]].reshape(28,28), cmap=plt.cm.gray_r)\n",
    "    plt.xticks([]); plt.yticks([])\n",
    "    plt.title(\"Proponent {}, {:.3f}\".format(i+1, influences[0,top_k[k-(i+1)]]))\n",
    "    img_index += 1\n",
    "\n",
    "bot_k = influences.argsort()[0][:k]\n",
    "for i in range(k):\n",
    "    plt.subplot(1,num_images,img_index)\n",
    "    plt.imshow(train_X[bot_k[i]].reshape(28,28), cmap=plt.cm.gray_r)\n",
    "    plt.xticks([]); plt.yticks([])\n",
    "    plt.title(\"Opponent {}, {:.3f}\".format(i+1, influences[0,bot_k[i]]))\n",
    "    img_index += 1\n",
    "\n",
    "plt.show()"
   ]
  },
  {
   "cell_type": "code",
   "execution_count": null,
   "id": "09c35baf",
   "metadata": {},
   "outputs": [],
   "source": []
  }
 ],
 "metadata": {
  "kernelspec": {
   "display_name": "tracinenv",
   "language": "python",
   "name": "tracinenv"
  },
  "language_info": {
   "codemirror_mode": {
    "name": "ipython",
    "version": 3
   },
   "file_extension": ".py",
   "mimetype": "text/x-python",
   "name": "python",
   "nbconvert_exporter": "python",
   "pygments_lexer": "ipython3",
   "version": "3.8.8"
  }
 },
 "nbformat": 4,
 "nbformat_minor": 5
}
